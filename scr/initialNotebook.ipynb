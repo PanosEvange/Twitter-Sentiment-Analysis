{
 "cells": [
  {
   "cell_type": "markdown",
   "metadata": {},
   "source": [
    "# Initial Jupyter notebook for data mining project\n"
   ]
  },
  {
   "cell_type": "markdown",
   "metadata": {},
   "source": [
    "Import all libraries needed for the tutorial"
   ]
  },
  {
   "cell_type": "code",
   "execution_count": 1,
   "metadata": {},
   "outputs": [],
   "source": [
    "# from pandas import DataFrame, read_csv\n",
    "import matplotlib.pyplot as plt\n",
    "import pandas as pd  # this is how I usually import pandas\n",
    "import sys  # only needed to determine Python version number\n",
    "from string import punctuation\n",
    "import re\n",
    "import nltk\n",
    "from nltk.stem import StemmerI, RegexpStemmer, LancasterStemmer, ISRIStemmer, PorterStemmer, SnowballStemmer, RSLPStemmer\n",
    "from nltk import word_tokenize\n",
    "# nltk.download(u'stopwords')\n",
    "from nltk.corpus import stopwords\n",
    "\n",
    "# import enchant\n",
    "# import hunspell\n",
    "\n",
    "# Enable inline plotting\n",
    "%matplotlib inline"
   ]
  },
  {
   "cell_type": "code",
   "execution_count": 2,
   "metadata": {},
   "outputs": [],
   "source": [
    "# For classification\n",
    "from sklearn.feature_extraction.text import ENGLISH_STOP_WORDS\n",
    "from sklearn.feature_extraction.text import CountVectorizer\n",
    "from sklearn.ensemble import RandomForestClassifier\n",
    "from sklearn.metrics import classification_report\n",
    "from sklearn import preprocessing\n",
    "from sklearn.neighbors import KNeighborsClassifier\n",
    "from sklearn.feature_extraction.text import TfidfVectorizer\n",
    "from sklearn import svm\n",
    "from sklearn.model_selection import train_test_split, GridSearchCV"
   ]
  },
  {
   "cell_type": "code",
   "execution_count": 3,
   "metadata": {},
   "outputs": [],
   "source": [
    "# import my functions\n",
    "from myFunctions import *"
   ]
  },
  {
   "cell_type": "code",
   "execution_count": 4,
   "metadata": {},
   "outputs": [],
   "source": [
    "# Read the data\n",
    "Location = r'../twitter_data/myTrain.tsv'\n",
    "df = pd.read_csv(Location, sep='\\t', names=['ID_1', 'ID_2', 'Label', 'Text'])"
   ]
  },
  {
   "cell_type": "code",
   "execution_count": 5,
   "metadata": {},
   "outputs": [
    {
     "data": {
      "text/html": [
       "<div>\n",
       "<style scoped>\n",
       "    .dataframe tbody tr th:only-of-type {\n",
       "        vertical-align: middle;\n",
       "    }\n",
       "\n",
       "    .dataframe tbody tr th {\n",
       "        vertical-align: top;\n",
       "    }\n",
       "\n",
       "    .dataframe thead th {\n",
       "        text-align: right;\n",
       "    }\n",
       "</style>\n",
       "<table border=\"1\" class=\"dataframe\">\n",
       "  <thead>\n",
       "    <tr style=\"text-align: right;\">\n",
       "      <th></th>\n",
       "      <th>ID_1</th>\n",
       "      <th>ID_2</th>\n",
       "      <th>Label</th>\n",
       "      <th>Text</th>\n",
       "    </tr>\n",
       "  </thead>\n",
       "  <tbody>\n",
       "    <tr>\n",
       "      <th>0</th>\n",
       "      <td>264183816548130816</td>\n",
       "      <td>15140428</td>\n",
       "      <td>positive</td>\n",
       "      <td>#Wow @BB Gas by my house hit $3.39!!!! I'm goi...</td>\n",
       "    </tr>\n",
       "    <tr>\n",
       "      <th>1</th>\n",
       "      <td>263405084770172928</td>\n",
       "      <td>591166521</td>\n",
       "      <td>negative</td>\n",
       "      <td>Theo Walcott is still shit, watch Rafa and Joh...</td>\n",
       "    </tr>\n",
       "    <tr>\n",
       "      <th>2</th>\n",
       "      <td>262163168678248449</td>\n",
       "      <td>35266263</td>\n",
       "      <td>negative</td>\n",
       "      <td>its not that I'm a GSP fan, i just hate Nick D...</td>\n",
       "    </tr>\n",
       "  </tbody>\n",
       "</table>\n",
       "</div>"
      ],
      "text/plain": [
       "                 ID_1       ID_2     Label  \\\n",
       "0  264183816548130816   15140428  positive   \n",
       "1  263405084770172928  591166521  negative   \n",
       "2  262163168678248449   35266263  negative   \n",
       "\n",
       "                                                Text  \n",
       "0  #Wow @BB Gas by my house hit $3.39!!!! I'm goi...  \n",
       "1  Theo Walcott is still shit, watch Rafa and Joh...  \n",
       "2  its not that I'm a GSP fan, i just hate Nick D...  "
      ]
     },
     "execution_count": 5,
     "metadata": {},
     "output_type": "execute_result"
    }
   ],
   "source": [
    "# print data\n",
    "df"
   ]
  },
  {
   "cell_type": "code",
   "execution_count": 6,
   "metadata": {},
   "outputs": [],
   "source": [
    "# Preprocess the data\n",
    "processed_list = preprocess(df)"
   ]
  },
  {
   "cell_type": "code",
   "execution_count": 7,
   "metadata": {},
   "outputs": [
    {
     "data": {
      "text/plain": [
       "[(0, 'ga hous hit 339 im go chapel hill sat'),\n",
       " (1, 'theo walcott still shit watch rafa johnni deal saturday'),\n",
       " (2, 'im gsp fan hate nick diaz cant wait februari')]"
      ]
     },
     "execution_count": 7,
     "metadata": {},
     "output_type": "execute_result"
    }
   ],
   "source": [
    "# print processed data\n",
    "processed_list"
   ]
  },
  {
   "cell_type": "markdown",
   "metadata": {},
   "source": [
    "# Do the classification"
   ]
  },
  {
   "cell_type": "code",
   "execution_count": 8,
   "metadata": {},
   "outputs": [
    {
     "data": {
      "text/plain": [
       "LabelEncoder()"
      ]
     },
     "execution_count": 8,
     "metadata": {},
     "output_type": "execute_result"
    }
   ],
   "source": [
    "# Build label encoder for categories\n",
    "le = preprocessing.LabelEncoder()\n",
    "le.fit(df[\"Label\"])"
   ]
  },
  {
   "cell_type": "code",
   "execution_count": 9,
   "metadata": {},
   "outputs": [],
   "source": [
    "# Transform categories into numbers\n",
    "y = le.transform(df[\"Label\"])"
   ]
  },
  {
   "cell_type": "code",
   "execution_count": 10,
   "metadata": {},
   "outputs": [
    {
     "data": {
      "text/plain": [
       "['ga hous hit 339 im go chapel hill sat',\n",
       " 'theo walcott still shit watch rafa johnni deal saturday',\n",
       " 'im gsp fan hate nick diaz cant wait februari']"
      ]
     },
     "execution_count": 10,
     "metadata": {},
     "output_type": "execute_result"
    }
   ],
   "source": [
    "# get processed content for list\n",
    "processed_content = [item[1] for item in processed_list]\n",
    "processed_content"
   ]
  },
  {
   "cell_type": "code",
   "execution_count": 11,
   "metadata": {},
   "outputs": [],
   "source": [
    "# Vectorize Content\n",
    "# Choose one of the below\n",
    "\n",
    "# CountVectorizer (BOW)\n",
    "\n",
    "# count_vectorizer = CountVectorizer(stop_words=ENGLISH_STOP_WORDS)\n",
    "# X = count_vectorizer.fit_transform(processed_content)\n",
    "\n",
    "# TfIdfVectorizer\n",
    "\n",
    "vectorizer = TfidfVectorizer()\n",
    "X = vectorizer.fit_transform(processed_content)\n"
   ]
  },
  {
   "cell_type": "markdown",
   "metadata": {},
   "source": [
    "Classification using SVM classifier"
   ]
  },
  {
   "cell_type": "code",
   "execution_count": 12,
   "metadata": {},
   "outputs": [
    {
     "name": "stdout",
     "output_type": "stream",
     "text": [
      "\n",
      "predictions of test set (which is the same as the train set) are:\n",
      "[1 0 0]\n",
      "\n",
      "predictions of test set in text form are:\n",
      "['positive' 'negative' 'negative']\n",
      "\n",
      "classification report for these predictions is:\n",
      "              precision    recall  f1-score   support\n",
      "\n",
      "    negative       1.00      1.00      1.00         2\n",
      "    positive       1.00      1.00      1.00         1\n",
      "\n",
      "   micro avg       1.00      1.00      1.00         3\n",
      "   macro avg       1.00      1.00      1.00         3\n",
      "weighted avg       1.00      1.00      1.00         3\n",
      "\n"
     ]
    }
   ],
   "source": [
    "clf = svm.SVC(kernel='linear')\n",
    "\n",
    "# fit train set\n",
    "clf.fit(X, y)\n",
    "\n",
    "# predict test set (here is the same as the train set)\n",
    "y_pred = clf.predict(X)\n",
    "\n",
    "print('\\npredictions of test set (which is the same as the train set) are:')\n",
    "print(y_pred)\n",
    "\n",
    "# Transform predictions to text\n",
    "predicted_categories = le.inverse_transform(y_pred)\n",
    "print('\\npredictions of test set in text form are:')\n",
    "print(predicted_categories)\n",
    "\n",
    "# Classification_report\n",
    "print('\\nclassification report for these predictions is:')\n",
    "print(classification_report(y, y_pred, target_names=list(le.classes_)))"
   ]
  },
  {
   "cell_type": "markdown",
   "metadata": {},
   "source": [
    "Classification using KNN classifier"
   ]
  },
  {
   "cell_type": "code",
   "execution_count": 13,
   "metadata": {},
   "outputs": [
    {
     "name": "stdout",
     "output_type": "stream",
     "text": [
      "\n",
      "predictions of test set (which is the same as the train set) are:\n",
      "[1 0 0]\n",
      "\n",
      "predictions of test set in text form are:\n",
      "['positive' 'negative' 'negative']\n",
      "\n",
      "classification report for these predictions is:\n",
      "              precision    recall  f1-score   support\n",
      "\n",
      "    negative       1.00      1.00      1.00         2\n",
      "    positive       1.00      1.00      1.00         1\n",
      "\n",
      "   micro avg       1.00      1.00      1.00         3\n",
      "   macro avg       1.00      1.00      1.00         3\n",
      "weighted avg       1.00      1.00      1.00         3\n",
      "\n"
     ]
    }
   ],
   "source": [
    "\n",
    "# Use KNNClassifier\n",
    "knn = KNeighborsClassifier(n_neighbors=1)\n",
    "\n",
    "# fit train set\n",
    "knn.fit(X, y)\n",
    "\n",
    "# Predict test set (here is the same as the train set)\n",
    "y_pred = knn.predict(X)\n",
    "\n",
    "print('\\npredictions of test set (which is the same as the train set) are:')\n",
    "print(y_pred)\n",
    "\n",
    "# Transform predictions to text\n",
    "predicted_categories = le.inverse_transform(y_pred)\n",
    "print('\\npredictions of test set in text form are:')\n",
    "print(predicted_categories)\n",
    "\n",
    "# Classification_report\n",
    "print('\\nclassification report for these predictions is:')\n",
    "print(classification_report(y, y_pred, target_names=list(le.classes_)))\n"
   ]
  }
 ],
 "metadata": {
  "jupytext": {
   "cell_markers": "region,endregion",
   "formats": "ipynb,py:light"
  },
  "kernelspec": {
   "display_name": "Python 3",
   "language": "python",
   "name": "python3"
  },
  "language_info": {
   "codemirror_mode": {
    "name": "ipython",
    "version": 3
   },
   "file_extension": ".py",
   "mimetype": "text/x-python",
   "name": "python",
   "nbconvert_exporter": "python",
   "pygments_lexer": "ipython3",
   "version": "3.7.3"
  }
 },
 "nbformat": 4,
 "nbformat_minor": 2
}
